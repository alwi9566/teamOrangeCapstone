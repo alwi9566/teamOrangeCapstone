{
 "cells": [
  {
   "cell_type": "code",
   "id": "initial_id",
   "metadata": {
    "collapsed": true,
    "ExecuteTime": {
     "end_time": "2025-09-18T22:16:42.077780Z",
     "start_time": "2025-09-18T22:16:42.073800Z"
    }
   },
   "source": [
    "# #INSTALLATION\n",
    "# git clone https://github.com/RMNCLDYO/Google-Reverse-Image-Search.git\n",
    "# cd Google-Reverse-Image-Search\n",
    "# pip install -r requirements.txt"
   ],
   "outputs": [],
   "execution_count": 1
  },
  {
   "metadata": {
    "ExecuteTime": {
     "end_time": "2025-09-18T22:17:10.454070Z",
     "start_time": "2025-09-18T22:17:10.449842Z"
    }
   },
   "cell_type": "code",
   "source": [
    "# USAGE\n",
    "# from reverse_image_search import GoogleReverseImageSearch\n",
    "#\n",
    "# request = GoogleReverseImageSearch()\n",
    "#\n",
    "# response = request.response(\n",
    "#     query=\"Example Query\",\n",
    "#     image_url=\"https://scontent-den2-1.xx.fbcdn.net/v/t45.5328-4/502846951_1011828177734340_6568752350921583642_n.jpg?stp=dst-jpg_tt6&amp;cstp=mx1536x2048&amp;ctp=p600x600&amp;_nc_cat=102&amp;ccb=1-7&amp;_nc_sid=4aa2e4&amp;_nc_ohc=-TD5Uo-QIaYQ7kNvwGa6EWN&amp;_nc_oc=Adnnf-qXtFrFBdWiKLwNZbTm4mQdd2Jfz03HK9zGxHAvmtbZRw_5CWB3oar9Y6C7M04&amp;_nc_zt=23&amp;_nc_ht=scontent-den2-1.xx&amp;_nc_gid=VqJI-A9nqqcpIJ0VRLlWgg&amp;oh=00_AfawQ7E7MFbL5I27kCMiRsX2ftXDzKdopt-8oSNWOMRT5w&amp;oe=68D2757F\",\n",
    "#     max_results=5\n",
    "# )\n",
    "#\n",
    "# print(response)"
   ],
   "id": "a3dae223937a3e84",
   "outputs": [],
   "execution_count": 2
  },
  {
   "metadata": {},
   "cell_type": "code",
   "outputs": [],
   "execution_count": null,
   "source": "",
   "id": "76788b579a601749"
  }
 ],
 "metadata": {
  "kernelspec": {
   "display_name": "Python 3",
   "language": "python",
   "name": "python3"
  },
  "language_info": {
   "codemirror_mode": {
    "name": "ipython",
    "version": 2
   },
   "file_extension": ".py",
   "mimetype": "text/x-python",
   "name": "python",
   "nbconvert_exporter": "python",
   "pygments_lexer": "ipython2",
   "version": "2.7.6"
  }
 },
 "nbformat": 4,
 "nbformat_minor": 5
}
