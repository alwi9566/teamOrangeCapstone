{
 "cells": [
  {
   "metadata": {
    "ExecuteTime": {
     "end_time": "2025-09-25T21:32:36.129774Z",
     "start_time": "2025-09-25T21:32:36.087842Z"
    }
   },
   "cell_type": "code",
   "source": [
    "from playwright.async_api import async_playwright\n",
    "\n",
    "playwright = await async_playwright().start()\n",
    "browser = await playwright.chromium.launch(headless = False)\n",
    "page = await browser.new_page()\n",
    "\n",
    "await page.goto(\"http://whatsmyuseragent.org/\")\n",
    "\n",
    "# await page.screenshot(path=\"example.png\")\n",
    "# await browser.close()\n",
    "# await playwright.stop()"
   ],
   "id": "a31fc564d4caf431",
   "outputs": [
    {
     "ename": "NotImplementedError",
     "evalue": "",
     "output_type": "error",
     "traceback": [
      "\u001B[1;31m---------------------------------------------------------------------------\u001B[0m",
      "\u001B[1;31mNotImplementedError\u001B[0m                       Traceback (most recent call last)",
      "Cell \u001B[1;32mIn[7], line 3\u001B[0m\n\u001B[0;32m      1\u001B[0m \u001B[38;5;28;01mfrom\u001B[39;00m \u001B[38;5;21;01mplaywright\u001B[39;00m\u001B[38;5;21;01m.\u001B[39;00m\u001B[38;5;21;01masync_api\u001B[39;00m \u001B[38;5;28;01mimport\u001B[39;00m async_playwright\n\u001B[1;32m----> 3\u001B[0m playwright \u001B[38;5;241m=\u001B[39m \u001B[38;5;28;01mawait\u001B[39;00m async_playwright()\u001B[38;5;241m.\u001B[39mstart()\n\u001B[0;32m      4\u001B[0m browser \u001B[38;5;241m=\u001B[39m \u001B[38;5;28;01mawait\u001B[39;00m playwright\u001B[38;5;241m.\u001B[39mchromium\u001B[38;5;241m.\u001B[39mlaunch(headless \u001B[38;5;241m=\u001B[39m \u001B[38;5;28;01mFalse\u001B[39;00m)\n\u001B[0;32m      5\u001B[0m page \u001B[38;5;241m=\u001B[39m \u001B[38;5;28;01mawait\u001B[39;00m browser\u001B[38;5;241m.\u001B[39mnew_page()\n",
      "File \u001B[1;32m~\\AppData\\Local\\Programs\\Python\\Python312\\Lib\\site-packages\\playwright\\async_api\\_context_manager.py:51\u001B[0m, in \u001B[0;36mPlaywrightContextManager.start\u001B[1;34m(self)\u001B[0m\n\u001B[0;32m     50\u001B[0m \u001B[38;5;28;01masync\u001B[39;00m \u001B[38;5;28;01mdef\u001B[39;00m \u001B[38;5;21mstart\u001B[39m(\u001B[38;5;28mself\u001B[39m) \u001B[38;5;241m-\u001B[39m\u001B[38;5;241m>\u001B[39m AsyncPlaywright:\n\u001B[1;32m---> 51\u001B[0m     \u001B[38;5;28;01mreturn\u001B[39;00m \u001B[38;5;28;01mawait\u001B[39;00m \u001B[38;5;28mself\u001B[39m\u001B[38;5;241m.\u001B[39m\u001B[38;5;21m__aenter__\u001B[39m()\n",
      "File \u001B[1;32m~\\AppData\\Local\\Programs\\Python\\Python312\\Lib\\site-packages\\playwright\\async_api\\_context_manager.py:46\u001B[0m, in \u001B[0;36mPlaywrightContextManager.__aenter__\u001B[1;34m(self)\u001B[0m\n\u001B[0;32m     44\u001B[0m \u001B[38;5;28;01mif\u001B[39;00m \u001B[38;5;129;01mnot\u001B[39;00m playwright_future\u001B[38;5;241m.\u001B[39mdone():\n\u001B[0;32m     45\u001B[0m     playwright_future\u001B[38;5;241m.\u001B[39mcancel()\n\u001B[1;32m---> 46\u001B[0m playwright \u001B[38;5;241m=\u001B[39m AsyncPlaywright(\u001B[38;5;28;43mnext\u001B[39;49m\u001B[43m(\u001B[49m\u001B[38;5;28;43miter\u001B[39;49m\u001B[43m(\u001B[49m\u001B[43mdone\u001B[49m\u001B[43m)\u001B[49m\u001B[43m)\u001B[49m\u001B[38;5;241;43m.\u001B[39;49m\u001B[43mresult\u001B[49m\u001B[43m(\u001B[49m\u001B[43m)\u001B[49m)\n\u001B[0;32m     47\u001B[0m playwright\u001B[38;5;241m.\u001B[39mstop \u001B[38;5;241m=\u001B[39m \u001B[38;5;28mself\u001B[39m\u001B[38;5;241m.\u001B[39m\u001B[38;5;21m__aexit__\u001B[39m  \u001B[38;5;66;03m# type: ignore\u001B[39;00m\n\u001B[0;32m     48\u001B[0m \u001B[38;5;28;01mreturn\u001B[39;00m playwright\n",
      "File \u001B[1;32m~\\AppData\\Local\\Programs\\Python\\Python312\\Lib\\site-packages\\playwright\\_impl\\_transport.py:120\u001B[0m, in \u001B[0;36mPipeTransport.connect\u001B[1;34m(self)\u001B[0m\n\u001B[0;32m    117\u001B[0m         startupinfo\u001B[38;5;241m.\u001B[39mwShowWindow \u001B[38;5;241m=\u001B[39m subprocess\u001B[38;5;241m.\u001B[39mSW_HIDE\n\u001B[0;32m    119\u001B[0m     executable_path, entrypoint_path \u001B[38;5;241m=\u001B[39m compute_driver_executable()\n\u001B[1;32m--> 120\u001B[0m     \u001B[38;5;28mself\u001B[39m\u001B[38;5;241m.\u001B[39m_proc \u001B[38;5;241m=\u001B[39m \u001B[38;5;28;01mawait\u001B[39;00m asyncio\u001B[38;5;241m.\u001B[39mcreate_subprocess_exec(\n\u001B[0;32m    121\u001B[0m         executable_path,\n\u001B[0;32m    122\u001B[0m         entrypoint_path,\n\u001B[0;32m    123\u001B[0m         \u001B[38;5;124m\"\u001B[39m\u001B[38;5;124mrun-driver\u001B[39m\u001B[38;5;124m\"\u001B[39m,\n\u001B[0;32m    124\u001B[0m         stdin\u001B[38;5;241m=\u001B[39masyncio\u001B[38;5;241m.\u001B[39msubprocess\u001B[38;5;241m.\u001B[39mPIPE,\n\u001B[0;32m    125\u001B[0m         stdout\u001B[38;5;241m=\u001B[39masyncio\u001B[38;5;241m.\u001B[39msubprocess\u001B[38;5;241m.\u001B[39mPIPE,\n\u001B[0;32m    126\u001B[0m         stderr\u001B[38;5;241m=\u001B[39m_get_stderr_fileno(),\n\u001B[0;32m    127\u001B[0m         limit\u001B[38;5;241m=\u001B[39m\u001B[38;5;241m32768\u001B[39m,\n\u001B[0;32m    128\u001B[0m         env\u001B[38;5;241m=\u001B[39menv,\n\u001B[0;32m    129\u001B[0m         startupinfo\u001B[38;5;241m=\u001B[39mstartupinfo,\n\u001B[0;32m    130\u001B[0m     )\n\u001B[0;32m    131\u001B[0m \u001B[38;5;28;01mexcept\u001B[39;00m \u001B[38;5;167;01mException\u001B[39;00m \u001B[38;5;28;01mas\u001B[39;00m exc:\n\u001B[0;32m    132\u001B[0m     \u001B[38;5;28mself\u001B[39m\u001B[38;5;241m.\u001B[39mon_error_future\u001B[38;5;241m.\u001B[39mset_exception(exc)\n",
      "File \u001B[1;32m~\\AppData\\Local\\Programs\\Python\\Python312\\Lib\\asyncio\\subprocess.py:224\u001B[0m, in \u001B[0;36mcreate_subprocess_exec\u001B[1;34m(program, stdin, stdout, stderr, limit, *args, **kwds)\u001B[0m\n\u001B[0;32m    221\u001B[0m loop \u001B[38;5;241m=\u001B[39m events\u001B[38;5;241m.\u001B[39mget_running_loop()\n\u001B[0;32m    222\u001B[0m protocol_factory \u001B[38;5;241m=\u001B[39m \u001B[38;5;28;01mlambda\u001B[39;00m: SubprocessStreamProtocol(limit\u001B[38;5;241m=\u001B[39mlimit,\n\u001B[0;32m    223\u001B[0m                                                     loop\u001B[38;5;241m=\u001B[39mloop)\n\u001B[1;32m--> 224\u001B[0m transport, protocol \u001B[38;5;241m=\u001B[39m \u001B[38;5;28;01mawait\u001B[39;00m loop\u001B[38;5;241m.\u001B[39msubprocess_exec(\n\u001B[0;32m    225\u001B[0m     protocol_factory,\n\u001B[0;32m    226\u001B[0m     program, \u001B[38;5;241m*\u001B[39margs,\n\u001B[0;32m    227\u001B[0m     stdin\u001B[38;5;241m=\u001B[39mstdin, stdout\u001B[38;5;241m=\u001B[39mstdout,\n\u001B[0;32m    228\u001B[0m     stderr\u001B[38;5;241m=\u001B[39mstderr, \u001B[38;5;241m*\u001B[39m\u001B[38;5;241m*\u001B[39mkwds)\n\u001B[0;32m    229\u001B[0m \u001B[38;5;28;01mreturn\u001B[39;00m Process(transport, protocol, loop)\n",
      "File \u001B[1;32m~\\AppData\\Local\\Programs\\Python\\Python312\\Lib\\asyncio\\base_events.py:1728\u001B[0m, in \u001B[0;36mBaseEventLoop.subprocess_exec\u001B[1;34m(self, protocol_factory, program, stdin, stdout, stderr, universal_newlines, shell, bufsize, encoding, errors, text, *args, **kwargs)\u001B[0m\n\u001B[0;32m   1726\u001B[0m     debug_log \u001B[38;5;241m=\u001B[39m \u001B[38;5;124mf\u001B[39m\u001B[38;5;124m'\u001B[39m\u001B[38;5;124mexecute program \u001B[39m\u001B[38;5;132;01m{\u001B[39;00mprogram\u001B[38;5;132;01m!r}\u001B[39;00m\u001B[38;5;124m'\u001B[39m\n\u001B[0;32m   1727\u001B[0m     \u001B[38;5;28mself\u001B[39m\u001B[38;5;241m.\u001B[39m_log_subprocess(debug_log, stdin, stdout, stderr)\n\u001B[1;32m-> 1728\u001B[0m transport \u001B[38;5;241m=\u001B[39m \u001B[38;5;28;01mawait\u001B[39;00m \u001B[38;5;28mself\u001B[39m\u001B[38;5;241m.\u001B[39m_make_subprocess_transport(\n\u001B[0;32m   1729\u001B[0m     protocol, popen_args, \u001B[38;5;28;01mFalse\u001B[39;00m, stdin, stdout, stderr,\n\u001B[0;32m   1730\u001B[0m     bufsize, \u001B[38;5;241m*\u001B[39m\u001B[38;5;241m*\u001B[39mkwargs)\n\u001B[0;32m   1731\u001B[0m \u001B[38;5;28;01mif\u001B[39;00m \u001B[38;5;28mself\u001B[39m\u001B[38;5;241m.\u001B[39m_debug \u001B[38;5;129;01mand\u001B[39;00m debug_log \u001B[38;5;129;01mis\u001B[39;00m \u001B[38;5;129;01mnot\u001B[39;00m \u001B[38;5;28;01mNone\u001B[39;00m:\n\u001B[0;32m   1732\u001B[0m     logger\u001B[38;5;241m.\u001B[39minfo(\u001B[38;5;124m'\u001B[39m\u001B[38;5;132;01m%s\u001B[39;00m\u001B[38;5;124m: \u001B[39m\u001B[38;5;132;01m%r\u001B[39;00m\u001B[38;5;124m'\u001B[39m, debug_log, transport)\n",
      "File \u001B[1;32m~\\AppData\\Local\\Programs\\Python\\Python312\\Lib\\asyncio\\base_events.py:522\u001B[0m, in \u001B[0;36mBaseEventLoop._make_subprocess_transport\u001B[1;34m(self, protocol, args, shell, stdin, stdout, stderr, bufsize, extra, **kwargs)\u001B[0m\n\u001B[0;32m    518\u001B[0m \u001B[38;5;28;01masync\u001B[39;00m \u001B[38;5;28;01mdef\u001B[39;00m \u001B[38;5;21m_make_subprocess_transport\u001B[39m(\u001B[38;5;28mself\u001B[39m, protocol, args, shell,\n\u001B[0;32m    519\u001B[0m                                      stdin, stdout, stderr, bufsize,\n\u001B[0;32m    520\u001B[0m                                      extra\u001B[38;5;241m=\u001B[39m\u001B[38;5;28;01mNone\u001B[39;00m, \u001B[38;5;241m*\u001B[39m\u001B[38;5;241m*\u001B[39mkwargs):\n\u001B[0;32m    521\u001B[0m \u001B[38;5;250m    \u001B[39m\u001B[38;5;124;03m\"\"\"Create subprocess transport.\"\"\"\u001B[39;00m\n\u001B[1;32m--> 522\u001B[0m     \u001B[38;5;28;01mraise\u001B[39;00m \u001B[38;5;167;01mNotImplementedError\u001B[39;00m\n",
      "\u001B[1;31mNotImplementedError\u001B[0m: "
     ]
    }
   ],
   "execution_count": 7
  },
  {
   "metadata": {},
   "cell_type": "code",
   "outputs": [],
   "execution_count": null,
   "source": "",
   "id": "d219a6c66427919c"
  }
 ],
 "metadata": {
  "kernelspec": {
   "display_name": "Python 3",
   "language": "python",
   "name": "python3"
  },
  "language_info": {
   "codemirror_mode": {
    "name": "ipython",
    "version": 2
   },
   "file_extension": ".py",
   "mimetype": "text/x-python",
   "name": "python",
   "nbconvert_exporter": "python",
   "pygments_lexer": "ipython2",
   "version": "2.7.6"
  }
 },
 "nbformat": 4,
 "nbformat_minor": 5
}
